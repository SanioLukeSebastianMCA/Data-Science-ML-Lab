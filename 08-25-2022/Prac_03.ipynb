{
  "nbformat": 4,
  "nbformat_minor": 0,
  "metadata": {
    "colab": {
      "name": "Prac 03.ipynb",
      "provenance": []
    },
    "kernelspec": {
      "name": "python3",
      "display_name": "Python 3"
    },
    "language_info": {
      "name": "python"
    }
  },
  "cells": [
    {
      "cell_type": "code",
      "execution_count": 1,
      "metadata": {
        "id": "4q024mpHSLLg"
      },
      "outputs": [],
      "source": [
        "import pandas as pd\n",
        "import numpy as np"
      ]
    },
    {
      "cell_type": "code",
      "source": [
        "# 1.1.\tHow to create Series with nd array\n",
        "\n",
        "arr=np.array([10,15,18,22])\n",
        "s = pd.Series(arr)\n",
        "print(s)"
      ],
      "metadata": {
        "id": "p3Z9zZenSSXG"
      },
      "execution_count": null,
      "outputs": []
    },
    {
      "cell_type": "code",
      "source": [
        "# 1.2.\tHow to create Series with Mutable index\n",
        "\n",
        "arr=np.array(['a','b','c','d'])\n",
        "s=pd.Series(arr,\n",
        "index=['first','second','third','fourth'])\n",
        "print(s)"
      ],
      "metadata": {
        "id": "u1gFuvZTSamm"
      },
      "execution_count": null,
      "outputs": []
    },
    {
      "cell_type": "code",
      "source": [
        "# 1.3.\tCreating a series from a Dictionary\n",
        "\n",
        "d= {'Name':'Sanio Luke', 'Roll No':'35', 'Designation':'Android Developer'}\n",
        "s= pd.Series(d)\n",
        "print(s)"
      ],
      "metadata": {
        "id": "eOTwYjJYSn11"
      },
      "execution_count": null,
      "outputs": []
    },
    {
      "cell_type": "code",
      "source": [
        "# 1.4.\tPrint all the values of the Series by multiplying them by 2.\n",
        "\n",
        "s= pd.Series([1,2,3,4,5])\n",
        "print(s*2)"
      ],
      "metadata": {
        "id": "shS-4OeHSuKl"
      },
      "execution_count": null,
      "outputs": []
    },
    {
      "cell_type": "code",
      "source": [
        "# 1.5.\tPrint Square of all the values of the series.\n",
        "\n",
        "s= pd.Series([1,2,3,4,5])\n",
        "print(s**2)"
      ],
      "metadata": {
        "id": "REWo4KaES3Ss"
      },
      "execution_count": null,
      "outputs": []
    },
    {
      "cell_type": "code",
      "source": [
        "# 1.6.\tPrint all the values of the Series that are greater than2\n",
        "\n",
        "s= pd.Series([1,2,3,4,5])\n",
        "print(s[s>=4])"
      ],
      "metadata": {
        "id": "ErIVgQ51S8L0"
      },
      "execution_count": null,
      "outputs": []
    },
    {
      "cell_type": "code",
      "source": [
        "# 1.7.\tAddition of two series\n",
        "\n",
        "s1= pd.Series([1,2,3,4,5],['a','b','c','d','e'])\n",
        "s2= pd.Series([49,48,47,46,45],['a','b','c','d','e'])\n",
        "print(s1+s2)"
      ],
      "metadata": {
        "id": "XB-D3_DzTBaD"
      },
      "execution_count": null,
      "outputs": []
    },
    {
      "cell_type": "code",
      "source": [
        "# 1.8.\tPrint the first and last 5 elements of a series\n",
        "\n",
        "arr= pd.array([10,45,53,81,2,23,86,24,44,21])\n",
        "s= pd.Series(arr)\n",
        "print(f\"The array is - {arr}\\n\")\n",
        "print(\"First 5 Numbers in the given array are - \")\n",
        "print(s.head(5))\n",
        "\n",
        "print(\"Last 5 Numbers in the given array are - \")\n",
        "print(s.tail(5))"
      ],
      "metadata": {
        "id": "icbVoLFeTHe8"
      },
      "execution_count": null,
      "outputs": []
    },
    {
      "cell_type": "code",
      "source": [
        "# 1.9.\tPrint the values from index 0 to 5\n",
        "\n",
        "arr= np.array([10,15,20,25,30,75,35,57,22,11])\n",
        "s= pd.Series(arr)\n",
        "print('The given array is ')\n",
        "print(s)\n",
        "print(\"The values from 0 to 5 are -\")\n",
        "print(s[:5])"
      ],
      "metadata": {
        "id": "5KqTuZmgTzvx"
      },
      "execution_count": null,
      "outputs": []
    },
    {
      "cell_type": "code",
      "source": [
        "# 1.10.\tSelection Using loc, iloc index label\n",
        "\n",
        "arr= np.array([10,15,20,25,30])\n",
        "s= pd.Series(arr)\n",
        "print('The given array is ')\n",
        "print(s)\n",
        "print(s.iloc[:2])\n",
        "print(s.iloc[2:3])"
      ],
      "metadata": {
        "id": "KvpKqLh_VR5I"
      },
      "execution_count": null,
      "outputs": []
    },
    {
      "cell_type": "code",
      "source": [
        "# 1.11.\tRetrieve subsets of data using slicing\n",
        "\n",
        "arr= pd.Series([10,15,20,25,30],['A','B','C','D','E'])\n",
        "s= pd.Series(arr)\n",
        "print('The given array is ')\n",
        "print(s)\n",
        "\n",
        "print(s[1:5:2])"
      ],
      "metadata": {
        "colab": {
          "base_uri": "https://localhost:8080/"
        },
        "id": "eNraDtJWXVtR",
        "outputId": "04f8fcdd-7a51-4735-fc92-c4fb370e5ea7"
      },
      "execution_count": 28,
      "outputs": [
        {
          "output_type": "stream",
          "name": "stdout",
          "text": [
            "The given array is \n",
            "A    10\n",
            "B    15\n",
            "C    20\n",
            "D    25\n",
            "E    30\n",
            "dtype: int64\n",
            "B    15\n",
            "D    25\n",
            "dtype: int64\n"
          ]
        }
      ]
    }
  ]
}