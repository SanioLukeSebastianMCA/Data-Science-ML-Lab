{
  "nbformat": 4,
  "nbformat_minor": 0,
  "metadata": {
    "colab": {
      "name": "Series Data Structure using Pandas.ipynb",
      "provenance": []
    },
    "kernelspec": {
      "name": "python3",
      "display_name": "Python 3"
    },
    "language_info": {
      "name": "python"
    }
  },
  "cells": [
    {
      "cell_type": "code",
      "source": [
        "import pandas as pd\n",
        "import numpy as np"
      ],
      "metadata": {
        "id": "ViR9Os5uGaHh"
      },
      "execution_count": 4,
      "outputs": []
    },
    {
      "cell_type": "code",
      "execution_count": 5,
      "metadata": {
        "colab": {
          "base_uri": "https://localhost:8080/"
        },
        "id": "SQLECMn_FKyu",
        "outputId": "899aa81c-5e1d-41f8-ca4b-ea07e5c80608"
      },
      "outputs": [
        {
          "output_type": "stream",
          "name": "stdout",
          "text": [
            "0    10\n",
            "1    15\n",
            "2    18\n",
            "3    22\n",
            "dtype: int64\n"
          ]
        }
      ],
      "source": [
        "arr=np.array([10,15,18,22])\n",
        "s = pd.Series(arr)\n",
        "print(s)"
      ]
    },
    {
      "cell_type": "code",
      "source": [
        "arr=np.array(['a','b','c','d'])\n",
        "s=pd.Series(arr,\n",
        "index=['first','second','third','fourth'])\n",
        "print(s)"
      ],
      "metadata": {
        "colab": {
          "base_uri": "https://localhost:8080/"
        },
        "id": "ACts0k6NFi-K",
        "outputId": "dd023959-1471-4004-a8c1-613eff642ef0"
      },
      "execution_count": 6,
      "outputs": [
        {
          "output_type": "stream",
          "name": "stdout",
          "text": [
            "first     a\n",
            "second    b\n",
            "third     c\n",
            "fourth    d\n",
            "dtype: object\n"
          ]
        }
      ]
    },
    {
      "cell_type": "code",
      "source": [
        "s= pd.Series(50, [0,1,2,3,4])\n",
        "print(s)"
      ],
      "metadata": {
        "colab": {
          "base_uri": "https://localhost:8080/"
        },
        "id": "lHtIof8BGfV5",
        "outputId": "233bb8ca-d536-49f1-c344-ec512fc2646b"
      },
      "execution_count": 7,
      "outputs": [
        {
          "output_type": "stream",
          "name": "stdout",
          "text": [
            "0    50\n",
            "1    50\n",
            "2    50\n",
            "3    50\n",
            "4    50\n",
            "dtype: int64\n"
          ]
        }
      ]
    },
    {
      "cell_type": "code",
      "source": [
        "d= {'Name':'Sanio Luke', 'Roll No':'35', 'Designation':'Android Developer'}\n",
        "s= pd.Series(d)\n",
        "print(s)"
      ],
      "metadata": {
        "colab": {
          "base_uri": "https://localhost:8080/"
        },
        "id": "N8Acpt8jGs2J",
        "outputId": "bf9ad811-357b-4a2c-8b3d-89617f55d74f"
      },
      "execution_count": 8,
      "outputs": [
        {
          "output_type": "stream",
          "name": "stdout",
          "text": [
            "Name                  Sanio Luke\n",
            "Roll No                       35\n",
            "Designation    Android Developer\n",
            "dtype: object\n"
          ]
        }
      ]
    },
    {
      "cell_type": "code",
      "source": [
        "s= pd.Series([1,2,3,4,5])\n",
        "print(s*2)\n",
        "print(s**2)\n",
        "print(s[s>=4])"
      ],
      "metadata": {
        "colab": {
          "base_uri": "https://localhost:8080/"
        },
        "id": "SYv5xZH6HibX",
        "outputId": "ed98dc3d-8bab-4c01-e648-a7b9524a1636"
      },
      "execution_count": 11,
      "outputs": [
        {
          "output_type": "stream",
          "name": "stdout",
          "text": [
            "0     2\n",
            "1     4\n",
            "2     6\n",
            "3     8\n",
            "4    10\n",
            "dtype: int64\n",
            "0     1\n",
            "1     4\n",
            "2     9\n",
            "3    16\n",
            "4    25\n",
            "dtype: int64\n",
            "3    4\n",
            "4    5\n",
            "dtype: int64\n"
          ]
        }
      ]
    },
    {
      "cell_type": "code",
      "source": [
        "arr= pd.array([10,45,53,81,2,23,86,24,44,21])\n",
        "s= pd.Series(arr)\n",
        "print(\"Default Head\")\n",
        "print(s.head())\n",
        "print(\"Numbered Head\")\n",
        "print(s.head(3))\n",
        "\n",
        "print(\"Default Tail\")\n",
        "print(s.tail())\n",
        "print(\"Numbered Tail\")\n",
        "print(s.tail(3))"
      ],
      "metadata": {
        "colab": {
          "base_uri": "https://localhost:8080/"
        },
        "id": "ZQqBJJTsH8ja",
        "outputId": "bd275751-3560-4f9a-f6cd-fec9d2690ade"
      },
      "execution_count": 16,
      "outputs": [
        {
          "output_type": "stream",
          "name": "stdout",
          "text": [
            "Default Head\n",
            "0    10\n",
            "1    45\n",
            "2    53\n",
            "3    81\n",
            "4     2\n",
            "dtype: Int64\n",
            "Numbered Head\n",
            "0    10\n",
            "1    45\n",
            "2    53\n",
            "dtype: Int64\n",
            "Default Tail\n",
            "5    23\n",
            "6    86\n",
            "7    24\n",
            "8    44\n",
            "9    21\n",
            "dtype: Int64\n",
            "Numbered Tail\n",
            "7    24\n",
            "8    44\n",
            "9    21\n",
            "dtype: Int64\n"
          ]
        }
      ]
    },
    {
      "cell_type": "code",
      "source": [
        "s1= pd.Series([1,2,3,4,5],['a','b','c','d','e'])\n",
        "s2= pd.Series([49,48,47,46,45],['a','b','c','d','e'])\n",
        "s3= pd.Series([11,82,23,42],['a','b','c','d'])\n",
        "print(s1+s2)\n",
        "print(s1+s3)\n",
        "print(s2.add(s3,fill_value=0))\n",
        "print(s2.sub(s3,fill_value=0))"
      ],
      "metadata": {
        "colab": {
          "base_uri": "https://localhost:8080/"
        },
        "id": "Wb7ROvj6PLBU",
        "outputId": "4f8d1e0a-27a0-48d1-9ece-cf4a55d49249"
      },
      "execution_count": 20,
      "outputs": [
        {
          "output_type": "stream",
          "name": "stdout",
          "text": [
            "a    50\n",
            "b    50\n",
            "c    50\n",
            "d    50\n",
            "e    50\n",
            "dtype: int64\n",
            "a    12.0\n",
            "b    84.0\n",
            "c    26.0\n",
            "d    46.0\n",
            "e     NaN\n",
            "dtype: float64\n",
            "a     60.0\n",
            "b    130.0\n",
            "c     70.0\n",
            "d     88.0\n",
            "e     45.0\n",
            "dtype: float64\n",
            "a    38.0\n",
            "b   -34.0\n",
            "c    24.0\n",
            "d     4.0\n",
            "e    45.0\n",
            "dtype: float64\n"
          ]
        }
      ]
    },
    {
      "cell_type": "code",
      "source": [
        "arr= np.array([10,15,20,25,30])\n",
        "s= pd.Series(arr)\n",
        "print(s)\n",
        "print(s.loc[:2])\n",
        "print(s.loc[3:4])\n",
        "s.loc[2:4]"
      ],
      "metadata": {
        "colab": {
          "base_uri": "https://localhost:8080/"
        },
        "id": "d9U45iAXRhvE",
        "outputId": "ffeec0da-59c7-4def-a350-1bf5419e974c"
      },
      "execution_count": 26,
      "outputs": [
        {
          "output_type": "stream",
          "name": "stdout",
          "text": [
            "0    10\n",
            "1    15\n",
            "2    20\n",
            "3    25\n",
            "4    30\n",
            "dtype: int64\n",
            "0    10\n",
            "1    15\n",
            "2    20\n",
            "dtype: int64\n",
            "3    25\n",
            "4    30\n",
            "dtype: int64\n"
          ]
        },
        {
          "output_type": "execute_result",
          "data": {
            "text/plain": [
              "2    20\n",
              "3    25\n",
              "4    30\n",
              "dtype: int64"
            ]
          },
          "metadata": {},
          "execution_count": 26
        }
      ]
    },
    {
      "cell_type": "code",
      "source": [
        "print(s.iloc[:2])\n",
        "print(s.iloc[2:3])"
      ],
      "metadata": {
        "colab": {
          "base_uri": "https://localhost:8080/"
        },
        "id": "fyDqTfSdW7Tr",
        "outputId": "3d8493a6-6cec-4982-ad27-c258f5862806"
      },
      "execution_count": 27,
      "outputs": [
        {
          "output_type": "stream",
          "name": "stdout",
          "text": [
            "0    10\n",
            "1    15\n",
            "dtype: int64\n",
            "2    20\n",
            "dtype: int64\n"
          ]
        }
      ]
    },
    {
      "cell_type": "code",
      "source": [],
      "metadata": {
        "id": "MXfAK6sLXT4h"
      },
      "execution_count": null,
      "outputs": []
    }
  ]
}